{
 "cells": [
  {
   "cell_type": "code",
   "execution_count": 1,
   "metadata": {},
   "outputs": [
    {
     "name": "stdout",
     "output_type": "stream",
     "text": [
      "in class a1\n",
      "in class a2\n",
      "in class a1 fun\n",
      "in class a2 fun\n",
      "in class b\n"
     ]
    }
   ],
   "source": [
    "class a1:\n",
    "    def __init__(self):\n",
    "        print(\"in class a1\")\n",
    "    def fun(self):\n",
    "        print(\"in class a1 fun\")\n",
    "class a2:\n",
    "    def __init__(self):\n",
    "        print(\"in class a2\")\n",
    "    def fun(self):\n",
    "        print(\"in class a2 fun\")\n",
    "        \n",
    "class b(a1,a2):\n",
    "    def __init__(self):\n",
    "        a1.__init__(self)\n",
    "        a2.__init__(self)\n",
    "        a1.fun(self)\n",
    "        a2.fun(self)\n",
    "        print(\"in class b\")\n",
    "        \n",
    "obj=b()\n"
   ]
  },
  {
   "cell_type": "code",
   "execution_count": null,
   "metadata": {},
   "outputs": [],
   "source": []
  }
 ],
 "metadata": {
  "kernelspec": {
   "display_name": "Python 3",
   "language": "python",
   "name": "python3"
  },
  "language_info": {
   "codemirror_mode": {
    "name": "ipython",
    "version": 3
   },
   "file_extension": ".py",
   "mimetype": "text/x-python",
   "name": "python",
   "nbconvert_exporter": "python",
   "pygments_lexer": "ipython3",
   "version": "3.7.4"
  }
 },
 "nbformat": 4,
 "nbformat_minor": 2
}

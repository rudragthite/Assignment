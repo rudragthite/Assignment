{
 "cells": [
  {
   "cell_type": "code",
   "execution_count": 232,
   "metadata": {},
   "outputs": [],
   "source": [
    "def concat(a,b):\n",
    "    return a+b\n",
    "\n",
    "def myReduce(fun,lst):\n",
    "    x=lst[0]\n",
    "    y=lst[1]\n",
    "    for i in range(1,len(lst)):\n",
    "        ans=fun(x,y)\n",
    "        if(i==len(lst)-1):\n",
    "            break\n",
    "        x=ans\n",
    "        y=lst[i+1]\n",
    "        \n",
    "        #newlst.append(x)\n",
    "        #lst.insert(0,x)\n",
    "    return ans\n",
    "    "
   ]
  },
  {
   "cell_type": "code",
   "execution_count": 233,
   "metadata": {},
   "outputs": [
    {
     "data": {
      "text/plain": [
       "'abcd'"
      ]
     },
     "execution_count": 233,
     "metadata": {},
     "output_type": "execute_result"
    }
   ],
   "source": [
    "\n",
    "myReduce(concat,['a','b','c','d'])"
   ]
  },
  {
   "cell_type": "code",
   "execution_count": 94,
   "metadata": {},
   "outputs": [],
   "source": [
    "def checkEven(num):\n",
    "    if num%2==0:\n",
    "        return True\n",
    "    return False\n",
    "    "
   ]
  },
  {
   "cell_type": "code",
   "execution_count": 95,
   "metadata": {},
   "outputs": [],
   "source": [
    "result=[]\n",
    "def myFilter(fun , ls):\n",
    "    for i in range(len(ls)):\n",
    "        ans=fun(ls[i])\n",
    "        if ans==False:\n",
    "            continue\n",
    "        result.append(ls[i])\n",
    "        \n",
    "    return result\n",
    "    "
   ]
  },
  {
   "cell_type": "code",
   "execution_count": 96,
   "metadata": {},
   "outputs": [
    {
     "data": {
      "text/plain": [
       "[2, 4, 6, 8, 10]"
      ]
     },
     "execution_count": 96,
     "metadata": {},
     "output_type": "execute_result"
    }
   ],
   "source": [
    "res = myFilter(checkEven , [1,2,3,4,5,6,7,8,9,10])\n",
    "res"
   ]
  },
  {
   "cell_type": "code",
   "execution_count": 100,
   "metadata": {},
   "outputs": [
    {
     "data": {
      "text/plain": [
       "['A', 'C', 'A', 'D', 'G', 'I', 'L', 'D']"
      ]
     },
     "execution_count": 100,
     "metadata": {},
     "output_type": "execute_result"
    }
   ],
   "source": [
    "letters =[i for i in \"ACADGILD\"]\n",
    "letters"
   ]
  },
  {
   "cell_type": "code",
   "execution_count": 130,
   "metadata": {},
   "outputs": [
    {
     "data": {
      "text/plain": [
       "['x', 'xx', 'xxx', 'xxxx', 'y', 'yy', 'yyy', 'yyyy', 'z', 'zz', 'zzz', 'zzzz']"
      ]
     },
     "execution_count": 130,
     "metadata": {},
     "output_type": "execute_result"
    }
   ],
   "source": [
    "l1=['x','xx','xxx','xxxx']\n",
    "l2=['y','yy','yyy','yyyy']\n",
    "l3=['z','zz','zzz','zzzz']\n",
    "l=[]\n",
    "lst = [l.extend(i) for i in [l1,l2,l3]]\n",
    "l"
   ]
  },
  {
   "cell_type": "code",
   "execution_count": 171,
   "metadata": {},
   "outputs": [
    {
     "data": {
      "text/plain": [
       "[['x', 'y', 'z'],\n",
       " ['xx', 'yy', 'zz'],\n",
       " ['xxx', 'yyy', 'zzz'],\n",
       " ['xxxx', 'yyyy', 'zzzz']]"
      ]
     },
     "execution_count": 171,
     "metadata": {},
     "output_type": "execute_result"
    }
   ],
   "source": [
    "\n",
    "x=[[i,j,k] for i in l1 for j in l2 for k in l3 if len(i)==len(j) and len(j)==len(k)]\n",
    "\n",
    "x"
   ]
  },
  {
   "cell_type": "code",
   "execution_count": 173,
   "metadata": {},
   "outputs": [
    {
     "data": {
      "text/plain": [
       "[[2], [3], [4], [3], [4], [5], [4], [5], [6]]"
      ]
     },
     "execution_count": 173,
     "metadata": {},
     "output_type": "execute_result"
    }
   ],
   "source": [
    "lst1=[2,3,4,3,4,5,4,5,6]\n",
    "[[i] for i in lst1]"
   ]
  },
  {
   "cell_type": "code",
   "execution_count": 184,
   "metadata": {},
   "outputs": [
    {
     "data": {
      "text/plain": [
       "[[2, 3, 4, 5], [3, 4, 5, 6], [4, 5, 6, 7], [5, 6, 7, 8]]"
      ]
     },
     "execution_count": 184,
     "metadata": {},
     "output_type": "execute_result"
    }
   ],
   "source": [
    "l1=[2,3,4,5]\n",
    "l2=[3,4,5,6]\n",
    "l3=[4,5,6,7]\n",
    "l4=[5,6,7,8]\n",
    "l=[]\n",
    "[i for i in [l1,l2,l3,l4]]"
   ]
  },
  {
   "cell_type": "code",
   "execution_count": 187,
   "metadata": {},
   "outputs": [
    {
     "data": {
      "text/plain": [
       "[(1, 1), (2, 1), (3, 1), (1, 2), (2, 2), (3, 2), (1, 3), (2, 3), (3, 3)]"
      ]
     },
     "execution_count": 187,
     "metadata": {},
     "output_type": "execute_result"
    }
   ],
   "source": [
    "l1=[1,2,3]\n",
    "l2=[1,2,3]\n",
    "\n",
    "[(j,i) for i in l1 for j in l2]"
   ]
  },
  {
   "cell_type": "code",
   "execution_count": 200,
   "metadata": {},
   "outputs": [
    {
     "name": "stdout",
     "output_type": "stream",
     "text": [
      "prajakta\n"
     ]
    }
   ],
   "source": [
    "def longestWord(lst):\n",
    "    longStr=lst[0]\n",
    "    for i in range(1,len(lst)):\n",
    "        if len(lst[i])>len(longStr):\n",
    "            longStr=lst[i]\n",
    "            \n",
    "    return longStr\n",
    "\n",
    "longWord=longestWord(['rudresh','radha','prajakta','kalyani'])\n",
    "print(longWord)"
   ]
  },
  {
   "cell_type": "code",
   "execution_count": 219,
   "metadata": {},
   "outputs": [
    {
     "name": "stdout",
     "output_type": "stream",
     "text": [
      "43.30127018922193\n"
     ]
    }
   ],
   "source": [
    "class Area:\n",
    "    def __init__(self,a,b,c):\n",
    "        self.a=a\n",
    "        self.b=b\n",
    "        self.c=c\n",
    "    \n",
    "class Triangle(Area):\n",
    "    def __init__(self,a,b,c):\n",
    "        Area.__init__(self,a,b,c)\n",
    "        \n",
    "    \n",
    "    def calculateArea(self):\n",
    "        s=(self.a+self.b+self.c)/2\n",
    "        area=(s*(s-self.a)*(s-self.b)*(s-self.c)) ** 0.5\n",
    "        return area\n",
    "        \n",
    "\n",
    "obj1=Triangle(10,10,10)\n",
    "ans=obj1.calculateArea()\n",
    "print(ans)\n",
    "#ans=calculateArea()"
   ]
  },
  {
   "cell_type": "code",
   "execution_count": 220,
   "metadata": {},
   "outputs": [
    {
     "data": {
      "text/plain": [
       "['rudresh', 'prajwal', 'prajakta']"
      ]
     },
     "execution_count": 220,
     "metadata": {},
     "output_type": "execute_result"
    }
   ],
   "source": [
    "def filter_long_words(lst,n):\n",
    "    new_list=[]\n",
    "    for i in range(len(lst)):\n",
    "        if len(lst[i])>n:\n",
    "            new_list.append(lst[i])\n",
    "            \n",
    "    return new_list\n",
    "\n",
    "l=filter_long_words(['rudresh','radha','pavan','prajwal','prajakta'],6)\n",
    "l"
   ]
  },
  {
   "cell_type": "code",
   "execution_count": 222,
   "metadata": {},
   "outputs": [
    {
     "name": "stdout",
     "output_type": "stream",
     "text": [
      "[7, 3, 5, 8]\n"
     ]
    }
   ],
   "source": [
    "def word_to_length(lst):\n",
    "    length=[]\n",
    "    for i in range(len(lst)):\n",
    "        length.append(len(lst[i]))\n",
    "        \n",
    "    return length\n",
    "\n",
    "l=word_to_length(['rudresh','abc','radha','prajakta'])\n",
    "print(l)"
   ]
  },
  {
   "cell_type": "code",
   "execution_count": 231,
   "metadata": {},
   "outputs": [
    {
     "data": {
      "text/plain": [
       "True"
      ]
     },
     "execution_count": 231,
     "metadata": {},
     "output_type": "execute_result"
    }
   ],
   "source": [
    "def check_vowel(char):\n",
    "    if char=='a' or char=='A' or char=='e' or char=='E' or char=='i' or char=='I' or char=='o' or char=='O' or char=='u' or char=='U':\n",
    "        return True\n",
    "    else:\n",
    "        return False\n",
    "    \n",
    "letter=check_vowel('o')\n",
    "letter"
   ]
  },
  {
   "cell_type": "code",
   "execution_count": null,
   "metadata": {},
   "outputs": [],
   "source": []
  }
 ],
 "metadata": {
  "kernelspec": {
   "display_name": "Python 3",
   "language": "python",
   "name": "python3"
  },
  "language_info": {
   "codemirror_mode": {
    "name": "ipython",
    "version": 3
   },
   "file_extension": ".py",
   "mimetype": "text/x-python",
   "name": "python",
   "nbconvert_exporter": "python",
   "pygments_lexer": "ipython3",
   "version": "3.7.4"
  }
 },
 "nbformat": 4,
 "nbformat_minor": 2
}
